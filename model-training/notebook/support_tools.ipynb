{
 "cells": [
  {
   "cell_type": "markdown",
   "metadata": {},
   "source": [
    "# Support Tools\n",
    "\n",
    "Imagine this place as a place to support me by looking at the engine and things"
   ]
  },
  {
   "cell_type": "code",
   "execution_count": 3,
   "metadata": {},
   "outputs": [
    {
     "name": "stdout",
     "output_type": "stream",
     "text": [
      "thesis_super_resolution_p3_10\n"
     ]
    }
   ],
   "source": [
    "# Just make sure the activated conda is thesis_super_resolution_3p_10\n",
    "\n",
    "import os\n",
    "print(os.environ['CONDA_DEFAULT_ENV'])"
   ]
  },
  {
   "cell_type": "code",
   "execution_count": 4,
   "metadata": {},
   "outputs": [
    {
     "name": "stdout",
     "output_type": "stream",
     "text": [
      "Reverse processing ..\\resources\\np_image_input\\input_20231002123549_100.tar_1408.1120.gz_13tevnmssmhiggs_10_ori.jpg.numpy.np.npy\n",
      "Reverse processing ..\\resources\\np_image_input\\input_20231002123549_100.tar_1408.1120.gz_13tevnmssmhiggs_14_ori.jpg.numpy.np.npy\n",
      "Reverse processing ..\\resources\\np_image_input\\input_20231002123549_100.tar_1408.1120.gz_13tevnmssmhiggs_15_ori.jpg.numpy.np.npy\n",
      "Reverse processing ..\\resources\\np_image_input\\input_20231002123549_100.tar_1408.1120.gz_13tevnmssmhiggs_25_ori.jpg.numpy.np.npy\n",
      "Reverse processing ..\\resources\\np_image_input\\input_20231002123549_100.tar_1408.1120.gz_13tevnmssmhiggs_30_ori.jpg.numpy.np.npy\n",
      "Reverse processing ..\\resources\\np_image_input\\input_20231002123550_100.tar_1408.1120.gz_13tevnmssmhiggs_37_ori.jpg.numpy.np.npy\n",
      "Reverse processing ..\\resources\\np_image_input\\input_20231002123550_100.tar_1408.1120.gz_13tevnmssmhiggs_40_ori.jpg.numpy.np.npy\n",
      "Reverse processing ..\\resources\\np_image_input\\input_20231002123550_100.tar_1408.1120.gz_13tevnmssmhiggs_45_ori.jpg.numpy.np.npy\n",
      "Reverse processing ..\\resources\\np_image_output\\target_20231002123549_100.tar_1408.1120.gz_13tevnmssmhiggs_10_ori.jpg.numpy.np.npy\n",
      "Reverse processing ..\\resources\\np_image_output\\target_20231002123549_100.tar_1408.1120.gz_13tevnmssmhiggs_14_ori.jpg.numpy.np.npy\n",
      "Reverse processing ..\\resources\\np_image_output\\target_20231002123549_100.tar_1408.1120.gz_13tevnmssmhiggs_15_ori.jpg.numpy.np.npy\n",
      "Reverse processing ..\\resources\\np_image_output\\target_20231002123549_100.tar_1408.1120.gz_13tevnmssmhiggs_25_ori.jpg.numpy.np.npy\n",
      "Reverse processing ..\\resources\\np_image_output\\target_20231002123549_100.tar_1408.1120.gz_13tevnmssmhiggs_30_ori.jpg.numpy.np.npy\n",
      "Reverse processing ..\\resources\\np_image_output\\target_20231002123550_100.tar_1408.1120.gz_13tevnmssmhiggs_37_ori.jpg.numpy.np.npy\n",
      "Reverse processing ..\\resources\\np_image_output\\target_20231002123550_100.tar_1408.1120.gz_13tevnmssmhiggs_40_ori.jpg.numpy.np.npy\n",
      "Reverse processing ..\\resources\\np_image_output\\target_20231002123550_100.tar_1408.1120.gz_13tevnmssmhiggs_45_ori.jpg.numpy.np.npy\n"
     ]
    }
   ],
   "source": [
    "# Convert all images in np_image_input, np_image_output, and np_image_original to literal image, \n",
    "# and save it to image_result folder\n",
    "\n",
    "import os\n",
    "from pathlib import Path\n",
    "from PIL import Image\n",
    "import numpy \n",
    "\n",
    "def convert_all_image_array_to_image():\n",
    "    for directory in [\n",
    "        Path(\"../resources/np_image_input/\"),\n",
    "        Path(\"../resources/np_image_output/\"),\n",
    "    ]:\n",
    "        for file in os.listdir(directory):\n",
    "            full_path = os.path.join(directory, file)\n",
    "            if(('.gitignore') in full_path):\n",
    "                continue\n",
    "            else:\n",
    "                print(\"Reverse processing \" + full_path)\n",
    "            \n",
    "                image = Image.fromarray(numpy.load(full_path).astype('uint8'), 'RGB')\n",
    "                image.save(Path(\"../resources/image_result/\" + file + \".png\"))\n",
    "\n",
    "convert_all_image_array_to_image()"
   ]
  }
 ],
 "metadata": {
  "kernelspec": {
   "display_name": "thesis_super_resolution_p3_10",
   "language": "python",
   "name": "python3"
  },
  "language_info": {
   "codemirror_mode": {
    "name": "ipython",
    "version": 3
   },
   "file_extension": ".py",
   "mimetype": "text/x-python",
   "name": "python",
   "nbconvert_exporter": "python",
   "pygments_lexer": "ipython3",
   "version": "3.10.0"
  },
  "orig_nbformat": 4
 },
 "nbformat": 4,
 "nbformat_minor": 2
}
