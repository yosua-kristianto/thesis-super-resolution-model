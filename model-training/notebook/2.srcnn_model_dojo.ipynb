{
 "cells": [
  {
   "cell_type": "markdown",
   "metadata": {},
   "source": [
    "# 2. Model Dojo\n",
    "\n",
    "In short, this notebook dedicated for SRCNN models training phase."
   ]
  },
  {
   "cell_type": "code",
   "execution_count": 1,
   "metadata": {},
   "outputs": [],
   "source": [
    "# Importing Packages\n",
    "import os\n",
    "import tensorflow\n",
    "import numpy\n",
    "from glob import glob\n",
    "from tensorflow.keras import Model\n",
    "from tensorflow.keras.layers import ReLU, Conv2D, Input\n",
    "from tensorflow.keras.optimizers import Adam"
   ]
  },
  {
   "cell_type": "markdown",
   "metadata": {},
   "source": [
    "### 2.1 Taking Data to be ready \n",
    "\n",
    "Currently I'm only have a low amount of training data set. Hence I will only make sure the code is working properly right now and saving the actual training process later. So, I will kind of using all the datasets to be trained of.\n",
    "\n",
    "BATCH_SIZE will determine the number of data trained on every iterations. "
   ]
  },
  {
   "cell_type": "code",
   "execution_count": 2,
   "metadata": {},
   "outputs": [],
   "source": [
    "class PatchesDataset(tensorflow.keras.utils.Sequence):\n",
    "    def __init__(self, batch_size, *args, **kwargs):\n",
    "        self.batch_size = batch_size\n",
    "        self.input = [*glob('../resources/np_image_input/*.np.npy')]\n",
    "        self.output = [*glob('../resources/np_image_output/*.np.npy')]\n",
    "        self.input.sort()\n",
    "        self.output.sort()\n",
    "        self.total_data = len(self.input)\n",
    "\n",
    "    def __len__(self):\n",
    "        # returns the number of batches\n",
    "        return int(self.total_data / self.batch_size)\n",
    "\n",
    "    def __getitem__(self, index):\n",
    "        # returns one batch\n",
    "        indices = self.random_indices()\n",
    "        input = numpy.array([numpy.load(self.input[idx]) for idx in indices])\n",
    "        output = numpy.array([numpy.load(self.output[idx]) for idx in indices])\n",
    "        return input, output\n",
    "\n",
    "    def random_indices(self):\n",
    "        return numpy.random.choice(list(range(self.total_data)), self.batch_size, p=numpy.ones(self.total_data)/self.total_data)"
   ]
  },
  {
   "cell_type": "markdown",
   "metadata": {},
   "source": [
    "### 2.2 Model Definition\n",
    "\n",
    "I can't explain why is this like this... Unfortunately...\n",
    "\n",
    "in short, this step will create a model, create an optimization through it, and create model summary\n",
    "\n",
    "Dzlab said *\"The architecture of the SRCNN model is very simple, it has only convolutional layers, one to downsize the input and extract image features and a later one to upside to generate the output image. The following helper function is used to create an instance of the model.\"*"
   ]
  },
  {
   "cell_type": "code",
   "execution_count": 3,
   "metadata": {},
   "outputs": [],
   "source": [
    "def create_model(height, width, depth):\n",
    "    input = Input(shape=(height, width, depth))\n",
    "    x = Conv2D(filters=64, kernel_size=(9, 9), kernel_initializer='he_normal')(input)\n",
    "    x = ReLU()(x)\n",
    "    x = Conv2D(filters=32, kernel_size=(1, 1), kernel_initializer='he_normal')(x)\n",
    "    x = ReLU()(x)\n",
    "    output = Conv2D(filters=depth, kernel_size=(5, 5), kernel_initializer='he_normal')(x)\n",
    "    return Model(input, output)"
   ]
  },
  {
   "cell_type": "markdown",
   "metadata": {},
   "source": [
    "This part is taking Model Optimization. "
   ]
  },
  {
   "cell_type": "code",
   "execution_count": 4,
   "metadata": {},
   "outputs": [],
   "source": [
    "EPOCHS = 12\n",
    "INPUT_DIM = 33 # This came from the 1.data_processing.ipynb\n",
    "optimizer = Adam(learning_rate = 1e-3, decay = 1e-3 / EPOCHS)\n",
    "model = create_model(INPUT_DIM, INPUT_DIM, 3)\n",
    "model.compile(loss = 'mse', optimizer = optimizer)"
   ]
  },
  {
   "cell_type": "code",
   "execution_count": 5,
   "metadata": {},
   "outputs": [
    {
     "name": "stdout",
     "output_type": "stream",
     "text": [
      "Model: \"model\"\n",
      "_________________________________________________________________\n",
      " Layer (type)                Output Shape              Param #   \n",
      "=================================================================\n",
      " input_1 (InputLayer)        [(None, 33, 33, 3)]       0         \n",
      "                                                                 \n",
      " conv2d (Conv2D)             (None, 25, 25, 64)        15616     \n",
      "                                                                 \n",
      " re_lu (ReLU)                (None, 25, 25, 64)        0         \n",
      "                                                                 \n",
      " conv2d_1 (Conv2D)           (None, 25, 25, 32)        2080      \n",
      "                                                                 \n",
      " re_lu_1 (ReLU)              (None, 25, 25, 32)        0         \n",
      "                                                                 \n",
      " conv2d_2 (Conv2D)           (None, 21, 21, 3)         2403      \n",
      "                                                                 \n",
      "=================================================================\n",
      "Total params: 20,099\n",
      "Trainable params: 20,099\n",
      "Non-trainable params: 0\n",
      "_________________________________________________________________\n"
     ]
    }
   ],
   "source": [
    "# See model summary\n",
    "model.summary()"
   ]
  },
  {
   "cell_type": "code",
   "execution_count": 6,
   "metadata": {},
   "outputs": [
    {
     "data": {
      "image/png": "[encoded data removed]",
      "text/plain": [
       "<IPython.core.display.Image object>"
      ]
     },
     "execution_count": 6,
     "metadata": {},
     "output_type": "execute_result"
    }
   ],
   "source": [
    "# Plot the model\n",
    "tensorflow.keras.utils.plot_model(model, show_shapes = True, rankdir='LR')"
   ]
  },
  {
   "cell_type": "code",
   "execution_count": 7,
   "metadata": {},
   "outputs": [],
   "source": [
    "# Save model weight\n",
    "checkpoint_path = \"../resources/training/cp.ckpt\"\n",
    "checkpoint_dir = os.path.dirname(checkpoint_path)\n",
    "cp_callback = tensorflow.keras.callbacks.ModelCheckpoint(filepath=checkpoint_path, save_weights_only=True, verbose=1)"
   ]
  },
  {
   "cell_type": "markdown",
   "metadata": {},
   "source": [
    "### 2.3 Fitting the Model\n",
    "Let's fit the model by setting the PatchesDataset parameter to 50 which mean total data / batch settings (50)."
   ]
  },
  {
   "cell_type": "code",
   "execution_count": 8,
   "metadata": {},
   "outputs": [
    {
     "ename": "ValueError",
     "evalue": "'a' cannot be empty unless no samples are taken",
     "output_type": "error",
     "traceback": [
      "\u001b[1;31m---------------------------------------------------------------------------\u001b[0m",
      "\u001b[1;31mValueError\u001b[0m                                Traceback (most recent call last)",
      "\u001b[1;32me:\\Code Repository\\Campus\\Thesis\\Pre Processing\\thesis-super-resolution-model\\model-training\\notebook\\2.srcnn_model_dojo.ipynb Cell 13\u001b[0m line \u001b[0;36m1\n\u001b[1;32m----> <a href='vscode-notebook-cell:/e%3A/Code%20Repository/Campus/Thesis/Pre%20Processing/thesis-super-resolution-model/model-training/notebook/2.srcnn_model_dojo.ipynb#X15sZmlsZQ%3D%3D?line=0'>1</a>\u001b[0m model\u001b[39m.\u001b[39;49mfit(PatchesDataset(\u001b[39m50\u001b[39;49m), epochs\u001b[39m=\u001b[39;49mEPOCHS, callbacks\u001b[39m=\u001b[39;49m[cp_callback])\n",
      "File \u001b[1;32mc:\\anaconda3\\envs\\thesis_super_resolution_p3_10\\lib\\site-packages\\keras\\utils\\traceback_utils.py:70\u001b[0m, in \u001b[0;36mfilter_traceback.<locals>.error_handler\u001b[1;34m(*args, **kwargs)\u001b[0m\n\u001b[0;32m     67\u001b[0m     filtered_tb \u001b[39m=\u001b[39m _process_traceback_frames(e\u001b[39m.\u001b[39m__traceback__)\n\u001b[0;32m     68\u001b[0m     \u001b[39m# To get the full stack trace, call:\u001b[39;00m\n\u001b[0;32m     69\u001b[0m     \u001b[39m# `tf.debugging.disable_traceback_filtering()`\u001b[39;00m\n\u001b[1;32m---> 70\u001b[0m     \u001b[39mraise\u001b[39;00m e\u001b[39m.\u001b[39mwith_traceback(filtered_tb) \u001b[39mfrom\u001b[39;00m \u001b[39mNone\u001b[39;00m\n\u001b[0;32m     71\u001b[0m \u001b[39mfinally\u001b[39;00m:\n\u001b[0;32m     72\u001b[0m     \u001b[39mdel\u001b[39;00m filtered_tb\n",
      "\u001b[1;32me:\\Code Repository\\Campus\\Thesis\\Pre Processing\\thesis-super-resolution-model\\model-training\\notebook\\2.srcnn_model_dojo.ipynb Cell 13\u001b[0m line \u001b[0;36m1\n\u001b[0;32m     <a href='vscode-notebook-cell:/e%3A/Code%20Repository/Campus/Thesis/Pre%20Processing/thesis-super-resolution-model/model-training/notebook/2.srcnn_model_dojo.ipynb#X15sZmlsZQ%3D%3D?line=13'>14</a>\u001b[0m \u001b[39mdef\u001b[39;00m \u001b[39m__getitem__\u001b[39m(\u001b[39mself\u001b[39m, index):\n\u001b[0;32m     <a href='vscode-notebook-cell:/e%3A/Code%20Repository/Campus/Thesis/Pre%20Processing/thesis-super-resolution-model/model-training/notebook/2.srcnn_model_dojo.ipynb#X15sZmlsZQ%3D%3D?line=14'>15</a>\u001b[0m     \u001b[39m# returns one batch\u001b[39;00m\n\u001b[1;32m---> <a href='vscode-notebook-cell:/e%3A/Code%20Repository/Campus/Thesis/Pre%20Processing/thesis-super-resolution-model/model-training/notebook/2.srcnn_model_dojo.ipynb#X15sZmlsZQ%3D%3D?line=15'>16</a>\u001b[0m     indices \u001b[39m=\u001b[39m \u001b[39mself\u001b[39;49m\u001b[39m.\u001b[39;49mrandom_indices()\n\u001b[0;32m     <a href='vscode-notebook-cell:/e%3A/Code%20Repository/Campus/Thesis/Pre%20Processing/thesis-super-resolution-model/model-training/notebook/2.srcnn_model_dojo.ipynb#X15sZmlsZQ%3D%3D?line=16'>17</a>\u001b[0m     \u001b[39minput\u001b[39m \u001b[39m=\u001b[39m numpy\u001b[39m.\u001b[39marray([numpy\u001b[39m.\u001b[39mload(\u001b[39mself\u001b[39m\u001b[39m.\u001b[39minput[idx]) \u001b[39mfor\u001b[39;00m idx \u001b[39min\u001b[39;00m indices])\n\u001b[0;32m     <a href='vscode-notebook-cell:/e%3A/Code%20Repository/Campus/Thesis/Pre%20Processing/thesis-super-resolution-model/model-training/notebook/2.srcnn_model_dojo.ipynb#X15sZmlsZQ%3D%3D?line=17'>18</a>\u001b[0m     output \u001b[39m=\u001b[39m numpy\u001b[39m.\u001b[39marray([numpy\u001b[39m.\u001b[39mload(\u001b[39mself\u001b[39m\u001b[39m.\u001b[39moutput[idx]) \u001b[39mfor\u001b[39;00m idx \u001b[39min\u001b[39;00m indices])\n",
      "\u001b[1;32me:\\Code Repository\\Campus\\Thesis\\Pre Processing\\thesis-super-resolution-model\\model-training\\notebook\\2.srcnn_model_dojo.ipynb Cell 13\u001b[0m line \u001b[0;36m2\n\u001b[0;32m     <a href='vscode-notebook-cell:/e%3A/Code%20Repository/Campus/Thesis/Pre%20Processing/thesis-super-resolution-model/model-training/notebook/2.srcnn_model_dojo.ipynb#X15sZmlsZQ%3D%3D?line=20'>21</a>\u001b[0m \u001b[39mdef\u001b[39;00m \u001b[39mrandom_indices\u001b[39m(\u001b[39mself\u001b[39m):\n\u001b[1;32m---> <a href='vscode-notebook-cell:/e%3A/Code%20Repository/Campus/Thesis/Pre%20Processing/thesis-super-resolution-model/model-training/notebook/2.srcnn_model_dojo.ipynb#X15sZmlsZQ%3D%3D?line=21'>22</a>\u001b[0m     \u001b[39mreturn\u001b[39;00m numpy\u001b[39m.\u001b[39;49mrandom\u001b[39m.\u001b[39;49mchoice(\u001b[39mlist\u001b[39;49m(\u001b[39mrange\u001b[39;49m(\u001b[39mself\u001b[39;49m\u001b[39m.\u001b[39;49mtotal_data)), \u001b[39mself\u001b[39;49m\u001b[39m.\u001b[39;49mbatch_size, p\u001b[39m=\u001b[39;49mnumpy\u001b[39m.\u001b[39;49mones(\u001b[39mself\u001b[39;49m\u001b[39m.\u001b[39;49mtotal_data)\u001b[39m/\u001b[39;49m\u001b[39mself\u001b[39;49m\u001b[39m.\u001b[39;49mtotal_data)\n",
      "File \u001b[1;32mnumpy\\\\random\\\\mtrand.pyx:950\u001b[0m, in \u001b[0;36mnumpy.random.mtrand.RandomState.choice\u001b[1;34m()\u001b[0m\n",
      "\u001b[1;31mValueError\u001b[0m: 'a' cannot be empty unless no samples are taken"
     ]
    }
   ],
   "source": [
    "model.fit(PatchesDataset(50), epochs=EPOCHS, callbacks=[cp_callback])"
   ]
  },
  {
   "cell_type": "markdown",
   "metadata": {},
   "source": [
    "## 2.4 Save the model to be deployed on the server\n",
    "\n",
    "Not just only deploying it to server, but also you can just update the model state."
   ]
  },
  {
   "cell_type": "code",
   "execution_count": null,
   "metadata": {},
   "outputs": [],
   "source": [
    "path = '../resources/suhu/shifu.h5'\n",
    "model.save(path)"
   ]
  },
  {
   "cell_type": "code",
   "execution_count": null,
   "metadata": {},
   "outputs": [],
   "source": [
    "# Load the model\n",
    "path = '../resources/suhu/shifu.h5'\n",
    "model = tensorflow.keras.models.load_model(path)"
   ]
  }
 ],
 "metadata": {
  "interpreter": {
   "hash": "9ad69851df0cb4453262857d3b1a61ab8eb1167f128089e34c7816a6b823fb9b"
  },
  "kernelspec": {
   "display_name": "Python 3.11.5 64-bit (windows store)",
   "language": "python",
   "name": "python3"
  },
  "language_info": {
   "codemirror_mode": {
    "name": "ipython",
    "version": 3
   },
   "file_extension": ".py",
   "mimetype": "text/x-python",
   "name": "python",
   "nbconvert_exporter": "python",
   "pygments_lexer": "ipython3",
   "version": "3.10.0"
  },
  "orig_nbformat": 4
 },
 "nbformat": 4,
 "nbformat_minor": 2
}
